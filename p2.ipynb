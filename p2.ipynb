{
 "cells": [
  {
   "cell_type": "markdown",
   "metadata": {},
   "source": [
    "# تمرین کامپیوتری اول\n",
    "## امیر مهدی محمدیان - 810197651\n",
    "# پروژه سرچ - ایندیانا جونز\n",
    "\n",
    "\n",
    "\n",
    "توی این پروژه قصد داریم که یک سیستمی طراحی کنیم که یک میز رو با شروط خاصی حل کند و از آن بیرون بیاید. درون این نقشه چندین گوی وجود دارد که باید اول در سر جای درست خود قرار بگیرن سپس میتونیم از این میز بیرون بیایم. محدودیت تعداد داریم در حمل گوی. از ما خواسته شده که با 4 الگوریتم این مسئله رو حل کنیم.\n",
    "\n",
    "یکی\n",
    "\n",
    "bfs\n",
    "\n",
    "یکی\n",
    "\n",
    "ids\n",
    "\n",
    "یکی\n",
    "\n",
    "A*\n",
    "\n",
    "و آخری\n",
    "\n",
    "weighted a*\n",
    "\n",
    "خب روش حل ما به این صورته که ما تمامی کارهای اصلی مثل هندل کردن هش ها، حرکت های ممکن، توابع هیوریستیک و... رو داخل کلسی به اسم نود انجام میدیم و داخل 4 تابع، کد الگوریتم هارو مینویسیم که بعد از این فقط کافیه برای هر الگوریتم کلسمون رو صدا بزنیم.\n",
    "الگوریتم بی اف اس سرعت خوبی داره و مسیر بهینه ای رو به ما میده، ولی فضای زیادی اشغال میکنه\n",
    "در مقابل اون الگوریتم ای دی اس فضای کمتری اشغال میکنه ولی کند تره\n",
    "الگوریتم ای استار الگوریتم سریع تریه نسبت به دوتای قبلی و نیاز به توابع هیوریستیک داره\n",
    "الگوریتم ای استار وزن دار در بعضی جاها میتونه سریع تر باشه و در بعضی هم اندازه ای استار\n",
    "\n",
    "\n",
    "به صورت کلی، استیت های ما یعنی تمامی خانه هایی که موجودن با داشتن یک سری ویژگی ها مثل داشتن گوی یا نداشتن آن که این دو، دو استیت جدا از هم میباشند برای هر خانه.\n",
    "اینیشال استیت و گول استیت رو از ورودی دریافت میکنیم\n",
    "گول استیت ما زمانی است که همه گوی ها در سر جای خود باشند و ما در خانه خروج باشیم\n",
    "اکشن های ما، حرکت به راست، بالا، پایین، چپ و برداشتن گوی میباشند\n",
    "\n",
    "ما در این مسئله از 2 هیوریستیک استفاده کردیم\n",
    "یکی فاصله منهتن تا خانه خروج که ادمیسیبل هستش ولی کانسیستنت نیست\n",
    "یکی تعداد گوی هایی که هنوز سر جایشان قرار نگرفتن که هم ادمیسیبل هستش و هم کانسیستنت\n",
    "\n",
    "هیوریستیک اول، چون بالاخره باید مسیر را تا خروج طی کنیم همیشه ادمیسیبل هستش ولی ممکنه کم و زیاد بشه پس کانسیستنت نیست\n",
    "هیوریستیک دوم همیشه کم میشه و از حد انتظار بالا نمیزنه پس هم ادمیسیبل هستش و هم کانسیستنت\n",
    "\n",
    "!!!در نظر بگیرید که لیست تمامی مسیر ها از راست به چپ میباشد"
   ]
  },
  {
   "cell_type": "markdown",
   "metadata": {},
   "source": [
    "این کامنت ها برای گرفتن ورودی از خوده کاربر هستش:"
   ]
  },
  {
   "cell_type": "code",
   "execution_count": null,
   "metadata": {},
   "outputs": [],
   "source": [
    "#n, m = map(int, input().split())\n",
    "#start = list(map(int, input().split()))\n",
    "#goal = list(map(int, input().split()))\n",
    "#c = int(input())\n",
    "#k = int(input())\n",
    "#locs = []\n",
    "#mapp = []\n",
    "#for i in range(k):\n",
    "#    loc = list(map(int, input().split()))\n",
    "#    locs.append(loc)\n",
    "#for i in range(n):\n",
    "#    row = list(input().split())\n",
    "#    mapp.append(row)"
   ]
  },
  {
   "cell_type": "markdown",
   "metadata": {},
   "source": [
    "این قطعه کد برای خوندن ورودی از فایل های داده شده میباشد:"
   ]
  },
  {
   "cell_type": "code",
   "execution_count": 514,
   "metadata": {},
   "outputs": [],
   "source": [
    "f = open(\"4.txt\", \"r\")\n",
    "n, m = map(int, f.readline().split())\n",
    "start = list(map(int, f.readline().split()))\n",
    "goal = list(map(int, f.readline().split()))\n",
    "c = int(f.readline())\n",
    "k = int(f.readline())\n",
    "locs = []\n",
    "mapp = []\n",
    "for i in range(k):\n",
    "    loc = list(map(int, f.readline().split()))\n",
    "    locs.append(loc)\n",
    "for i in range(n):\n",
    "    row = list(f.readline().split())\n",
    "    mapp.append(row)"
   ]
  },
  {
   "cell_type": "markdown",
   "metadata": {},
   "source": [
    "برای راحتی کار از چند لیست کمکی و از کتابخانه کیو برای پرایوریتی کیو در الگوریتم ای استار استفاده میکنیم:"
   ]
  },
  {
   "cell_type": "code",
   "execution_count": 515,
   "metadata": {},
   "outputs": [],
   "source": [
    "#for ease\n",
    "gem_locs = []\n",
    "gem_locs_dic = {}\n",
    "for i in locs:\n",
    "    temp = [i[0], i[1]]\n",
    "    gem_locs.append(temp)\n",
    "    gem_locs_dic[str(i[0]) + str(i[1])] = [i[2], i[3]]\n",
    "\n",
    "from queue import PriorityQueue"
   ]
  },
  {
   "cell_type": "markdown",
   "metadata": {},
   "source": [
    "این کلس نود ماست که برای ساختن استیت ها به کار میرود.\n",
    "تابع اول کانستراکتور میباشد.\n",
    "تابع دوم برای چک کردن شرط پایان مسئله است.\n",
    "تابع گت هش برای اینه که بتونیم از ست ها استفاده کنیم تا کارمان سریع تر باشد.\n",
    "گت مووز برای به دست آوردن حرکت های ممکن است.\n",
    "و توابع اچ همان هیوریستیک های ما میباشند\n"
   ]
  },
  {
   "cell_type": "code",
   "execution_count": 516,
   "metadata": {},
   "outputs": [],
   "source": [
    "class node:\n",
    "    location = []\n",
    "    bag = 0\n",
    "    father = None\n",
    "    child = []\n",
    "    gems = []\n",
    "    places = []\n",
    "    h = \"\"\n",
    "    level = 0\n",
    "    cost_so_far = 0\n",
    "    w = 1\n",
    "    \n",
    "    def __init__(self, _location, _bag, _father, _gems):\n",
    "        #print(\"Created.\")\n",
    "        self.location = _location.copy()\n",
    "        self.bag = _bag\n",
    "        self.father = _father\n",
    "        self.gems = _gems.copy()\n",
    "        if _father != None:\n",
    "            self.places = _father.places.copy()\n",
    "            self.level = _father.level + 1\n",
    "            self.cost_so_far = _father.cost_so_far + 1\n",
    "            self.w = _father.w\n",
    "    \n",
    "    def goal_test(self):\n",
    "        if (len(self.gems) == 0 and len(self.places) == 0 and self.bag <= 0):\n",
    "            if self.location == goal:\n",
    "                return True\n",
    "        return False\n",
    "    \n",
    "    def get_hash(self):\n",
    "        self.h = ''\n",
    "        self.h = self.h + str(self.location[0]) + '-' + str(self.location[1]) + '-' + str(self.bag) + ':'\n",
    "        self.h = self.h + str(self.places) + ':'\n",
    "        self.h = self.h + str(self.gems) + ';'\n",
    "        #for _child in self.child:\n",
    "        #    self.h = self.h + str(_child.location[0]) + '-' + str(_child.location[1]) + ':'\n",
    "        #for gem in self.gems:\n",
    "        #    self.h = self.h + str(gem[0]) + '-' + str(gem[1]) + ';'\n",
    "        return self.h\n",
    "    \n",
    "    def get_hash_ids(self):\n",
    "        self.h = ''\n",
    "        self.h = self.h + str(self.location[0]) + '-' + str(self.location[1]) + '-' + str(self.bag) + ':'\n",
    "        self.h = self.h + str(self.level) + ':'\n",
    "        self.h = self.h + str(self.places) + ':'\n",
    "        self.h = self.h + str(self.gems) + ';'\n",
    "        #for _child in self.child:\n",
    "        #    self.h = self.h + str(_child.location[0]) + '-' + str(_child.location[1]) + ':'\n",
    "        #for gem in self.gems:\n",
    "        #    self.h = self.h + str(gem[0]) + '-' + str(gem[1]) + ';'\n",
    "        return self.h\n",
    "    \n",
    "    def get_hash_as(self):\n",
    "        self.h = ''\n",
    "        self.h = self.h + str(self.location[0]) + '-' + str(self.location[1]) + '-' + str(self.bag) + ':'\n",
    "        self.h = self.h + str(self.cost_so_far) + ':'\n",
    "        self.h = self.h + str(self.places) + ':'\n",
    "        self.h = self.h + str(self.gems) + ';'\n",
    "        #for _child in self.child:\n",
    "        #    self.h = self.h + str(_child.location[0]) + '-' + str(_child.location[1]) + ':'\n",
    "        #for gem in self.gems:\n",
    "        #    self.h = self.h + str(gem[0]) + '-' + str(gem[1]) + ';'\n",
    "        return self.h\n",
    "    \n",
    "    def get_moves(self):\n",
    "        here = self.location.copy()\n",
    "        self.child = []\n",
    "        \n",
    "        #place a gem maybe?\n",
    "        if here in self.places:\n",
    "            #print(\"Ok lets place it carefully.......................................................\")\n",
    "            #print(self.places)\n",
    "            self.places.remove(here)\n",
    "            self.bag -= 1\n",
    "            \n",
    "        #up\n",
    "        up = [here[0] - 1, here[1]]\n",
    "        if (up[0] >= 0 and up[0] < n):\n",
    "            if mapp[up[0]][up[1]] != '*':\n",
    "                u = node(up, self.bag, self, self.gems)\n",
    "                self.child.append(u)\n",
    "        #right\n",
    "        right = [here[0], here[1] + 1]\n",
    "        if (right[1] >= 0 and right[1] < m):\n",
    "            if mapp[right[0]][right[1]] != '*':\n",
    "                r = node(right, self.bag, self, self.gems)\n",
    "                self.child.append(r)\n",
    "        #down\n",
    "        down = [here[0] + 1, here[1]]\n",
    "        if (down[0] >= 0 and down[0] < n):\n",
    "            if mapp[down[0]][down[1]] != '*':\n",
    "                d = node(down, self.bag, self, self.gems)\n",
    "                self.child.append(d)\n",
    "        #left\n",
    "        left = [here[0], here[1] - 1]\n",
    "        if (left[1] >= 0 and left[1] < m):\n",
    "            if mapp[left[0]][left[1]] != '*':\n",
    "                l = node(left, self.bag, self, self.gems)\n",
    "                self.child.append(l)\n",
    "        #gem\n",
    "        if here in self.gems:\n",
    "            if self.bag < c:\n",
    "                #print(\"oh shit i found one!\")\n",
    "                g = node(here, self.bag + 1, self, self.gems)\n",
    "                self.child.append(g)\n",
    "                g.gems.remove(here)\n",
    "                g.places.append(gem_locs_dic[str(here[0]) + str(here[1])])\n",
    "                \n",
    "    def print_child(self):\n",
    "        for i in self.child:\n",
    "            print(i.location)\n",
    "            #print(i.gems)\n",
    "            #print(\"places:\")\n",
    "            #print(i.places)\n",
    "            #print(i.get_hash())\n",
    "    \n",
    "    def h1(self): #gems in place\n",
    "        return (self.cost_so_far + len(self.gems)) * self.w\n",
    "    \n",
    "    \n",
    "    def h2(self): #manhatan goal\n",
    "        return (self.cost_so_far + (abs(self.location[0] - goal[0]) + abs(self.location[1] - goal[1]))) * self.w\n",
    "    \n",
    "    \n",
    "    def h3(self): #manhattan min\n",
    "        hu = 0\n",
    "        minn = [100000, 100000]\n",
    "        here = self.location\n",
    "        if len(self.gems) == 0:\n",
    "            hu = abs(here[0] - goal[0]) + abs(here[1] - goal[1])\n",
    "            return self.cost_so_far + hu\n",
    "        if len(self.places) == 0:\n",
    "            hu = 0\n",
    "        else:\n",
    "            for i in self.places:\n",
    "                if abs(here[0] - i[0]) < abs(here[0] - minn[0]) and abs(here[1] - i[1]) < abs(here[1] - minn[1]):\n",
    "                    minn = i.copy()\n",
    "            if minn[0] == here[0]:\n",
    "                hu = minn[1]\n",
    "            elif minn[1] == here[1]:\n",
    "                hu = minn[0]\n",
    "            else:\n",
    "                hu = minn[0] + minn[1]    \n",
    "            \n",
    "        return self.cost_so_far + hu\n",
    "    \n",
    "    \n",
    "    def set_w(self, i):\n",
    "        self.w = i\n",
    "    \n",
    "    def __gt__(self, other):\n",
    "        if self.h2() > other.h2():\n",
    "            return True\n",
    "        return False\n",
    "    \n",
    "    def __lt__(self, other):\n",
    "        if self.h2() < other.h2():\n",
    "            return True\n",
    "        return False\n",
    "    \n",
    "    def __ge__(self, other):\n",
    "        if self.h2() >= other.h2():\n",
    "            return True\n",
    "        return False\n",
    "    \n",
    "    def __le__(self, other):\n",
    "        if self.h2() <= other.h2():\n",
    "            return True\n",
    "        return False"
   ]
  },
  {
   "cell_type": "markdown",
   "metadata": {},
   "source": [
    "# BFS"
   ]
  },
  {
   "cell_type": "code",
   "execution_count": 517,
   "metadata": {},
   "outputs": [],
   "source": [
    "def bfs(root):\n",
    "    visited = set()\n",
    "    visited.add(root.get_hash())\n",
    "    front = []\n",
    "    front_locs = []\n",
    "    front.append(root)\n",
    "    front_locs.append(root.get_hash())\n",
    "    cnt = 0\n",
    "    \n",
    "    while len(front) != 0:\n",
    "        #print(\"=================\")\n",
    "        #for i in front:\n",
    "        #    print(str(i.location) + ' ' + i.get_hash())\n",
    "        #print(\"=================\")\n",
    "        pop = front.pop(0)\n",
    "        #front_locs.pop(0)\n",
    "        visited.add(pop.get_hash())\n",
    "        pop.get_moves()\n",
    "        if pop.goal_test():\n",
    "            #print(\"found it!!!!!!!!\")\n",
    "            return pop\n",
    "        #print(\"im at:\")\n",
    "        #print(pop.location)\n",
    "        for child in pop.child:\n",
    "            if child.get_hash() not in visited:\n",
    "                #if child.get_hash() not in front_locs:\n",
    "                front.append(child)\n",
    "                visited.add(child.get_hash())\n",
    "                    #front_locs.append(child.get_hash())\n",
    "    #print(\"well im dead.\")"
   ]
  },
  {
   "cell_type": "markdown",
   "metadata": {},
   "source": [
    "# IDS"
   ]
  },
  {
   "cell_type": "code",
   "execution_count": 518,
   "metadata": {},
   "outputs": [],
   "source": [
    "def dfs(node, limit):\n",
    "    visited = set()\n",
    "    stack = []\n",
    "    stack.append(node)\n",
    "    \n",
    "    if node.goal_test():\n",
    "        #print(\"IM OUT BITCH!!!!\")\n",
    "        #print(node.location)\n",
    "        return node\n",
    "    \n",
    "    while(True):\n",
    "        if len(stack) <= 0:\n",
    "            break\n",
    "\n",
    "        node = stack[-1]\n",
    "        stack.pop()\n",
    "        #print(\"--im at:\")\n",
    "        #print(str(node.location) + str(node.get_hash()))\n",
    "        \n",
    "        if node.level > limit:\n",
    "            #print(\"Well shit\")\n",
    "            #print(node.location)\n",
    "            continue\n",
    "            \n",
    "        if node.get_hash_ids() not in visited:\n",
    "            #print(\"and im new here\")\n",
    "            visited.add(node.get_hash_ids())\n",
    "        \n",
    "        if node.goal_test():\n",
    "            #print(\"IM OUT BITCH!!!!\")\n",
    "            #print(node.location)\n",
    "            return node\n",
    "        \n",
    "        node.get_moves()\n",
    "        for mov in node.child:\n",
    "            if (mov.get_hash_ids() not in visited):\n",
    "                #print(\"child:\")\n",
    "                #print(mov.location)\n",
    "                #print(\"level\")\n",
    "                #print(mov.level)\n",
    "                stack.append(mov)\n",
    "                visited.add(mov.get_hash_ids())\n",
    "                #mov.level = node.level + 1"
   ]
  },
  {
   "cell_type": "code",
   "execution_count": 519,
   "metadata": {},
   "outputs": [],
   "source": [
    "max_limit = 100\n",
    "def ids(node):\n",
    "    for i in range(max_limit):\n",
    "        #print(\"========================================================================\")\n",
    "        #print(i)\n",
    "        #print(\"========================================================================\")\n",
    "        result = dfs(node, i)\n",
    "        if result != None:\n",
    "            return result"
   ]
  },
  {
   "cell_type": "markdown",
   "metadata": {},
   "source": [
    "# A*"
   ]
  },
  {
   "cell_type": "code",
   "execution_count": 520,
   "metadata": {},
   "outputs": [],
   "source": [
    "def astar(node):\n",
    "    openlist = PriorityQueue()\n",
    "    visited = set()\n",
    "    openlist.put(node)\n",
    "    \n",
    "    while(True):\n",
    "        current = openlist.get(openlist.qsize() - 1)\n",
    "        \n",
    "        if current.goal_test():\n",
    "            #print(\"Woohoo im out!!!\")\n",
    "            return current\n",
    "        \n",
    "        \n",
    "        if current.get_hash() not in visited:\n",
    "            visited.add(current.get_hash())\n",
    "        \n",
    "        #print(\"--im at:\")\n",
    "        #print(str(current.location) + str(current.get_hash()) + str(current.h1()))\n",
    "        \n",
    "        current.get_moves()\n",
    "        \n",
    "        #print(\"children:\")\n",
    "        for i in current.child:\n",
    "            if i.get_hash() not in visited:\n",
    "                #print(str(i.location) + str(i.get_hash()) + str(i.h1()))\n",
    "                visited.add(i.get_hash())\n",
    "                #heu = i.h1()\n",
    "                #openlist.append(child)\n",
    "                openlist.put(i) "
   ]
  },
  {
   "cell_type": "markdown",
   "metadata": {},
   "source": [
    "# BFS TESTS"
   ]
  },
  {
   "cell_type": "code",
   "execution_count": 521,
   "metadata": {},
   "outputs": [
    {
     "name": "stdout",
     "output_type": "stream",
     "text": [
      "[1, 1]\n",
      "{}\n"
     ]
    }
   ],
   "source": [
    "root = node(start, 0, None, gem_locs)\n",
    "root.get_moves()\n",
    "root.print_child()\n",
    "print(gem_locs_dic)"
   ]
  },
  {
   "cell_type": "markdown",
   "metadata": {},
   "source": [
    "### TEST 1"
   ]
  },
  {
   "cell_type": "code",
   "execution_count": 449,
   "metadata": {},
   "outputs": [
    {
     "name": "stdout",
     "output_type": "stream",
     "text": [
      "Wall time: 3.99 ms\n"
     ]
    }
   ],
   "source": [
    "%%time\n",
    "#BFS\n",
    "#test 1\n",
    "res = bfs(root)"
   ]
  },
  {
   "cell_type": "code",
   "execution_count": 450,
   "metadata": {},
   "outputs": [
    {
     "name": "stdout",
     "output_type": "stream",
     "text": [
      "[[2, 6], [2, 5], [1, 5], [1, 4], [1, 3], [1, 2], [1, 2], [1, 1], [1, 2], [1, 3], [2, 3], [3, 3], [3, 2], [3, 2], [3, 3], [2, 3], [2, 3], [1, 3], [1, 2], [1, 1]]\n",
      "20\n"
     ]
    }
   ],
   "source": [
    "li = []\n",
    "while res.father != None:\n",
    "    li.append(res.location.copy())\n",
    "    res = res.father\n",
    "print(li)\n",
    "print(len(li))"
   ]
  },
  {
   "cell_type": "markdown",
   "metadata": {},
   "source": [
    "### TEST 2"
   ]
  },
  {
   "cell_type": "code",
   "execution_count": 505,
   "metadata": {},
   "outputs": [
    {
     "name": "stdout",
     "output_type": "stream",
     "text": [
      "Wall time: 41.3 ms\n"
     ]
    }
   ],
   "source": [
    "%%time\n",
    "#BFS test 2\n",
    "res = bfs(root)"
   ]
  },
  {
   "cell_type": "code",
   "execution_count": 506,
   "metadata": {},
   "outputs": [
    {
     "name": "stdout",
     "output_type": "stream",
     "text": [
      "[[48, 48], [47, 48], [46, 48], [45, 48], [44, 48], [43, 48], [42, 48], [41, 48], [40, 48], [39, 48], [38, 48], [37, 48], [36, 48], [35, 48], [34, 48], [33, 48], [32, 48], [31, 48], [30, 48], [29, 48], [28, 48], [27, 48], [26, 48], [25, 48], [24, 48], [24, 47], [24, 46], [24, 45], [24, 44], [24, 43], [24, 42], [24, 41], [24, 40], [24, 39], [24, 38], [24, 37], [24, 36], [24, 35], [24, 34], [24, 33], [24, 32], [24, 31], [24, 30], [24, 29], [24, 28], [24, 27], [24, 26], [24, 25]]\n",
      "48\n"
     ]
    }
   ],
   "source": [
    "li = []\n",
    "while res.father != None:\n",
    "    li.append(res.location.copy())\n",
    "    res = res.father\n",
    "print(li)\n",
    "print(len(li))"
   ]
  },
  {
   "cell_type": "markdown",
   "metadata": {},
   "source": [
    "### TEST 3"
   ]
  },
  {
   "cell_type": "code",
   "execution_count": 470,
   "metadata": {},
   "outputs": [
    {
     "name": "stdout",
     "output_type": "stream",
     "text": [
      "Wall time: 10.3 s\n"
     ]
    }
   ],
   "source": [
    "%%time\n",
    "#BFS test 3\n",
    "res = bfs(root)"
   ]
  },
  {
   "cell_type": "code",
   "execution_count": 471,
   "metadata": {},
   "outputs": [
    {
     "name": "stdout",
     "output_type": "stream",
     "text": [
      "[[2, 40], [2, 39], [1, 39], [1, 39], [1, 38], [2, 38], [1, 38], [1, 38], [1, 37], [2, 37], [1, 37], [1, 37], [1, 36], [2, 36], [1, 36], [1, 36], [1, 35], [2, 35], [1, 35], [1, 35], [1, 34], [2, 34], [1, 34], [1, 34], [1, 33], [2, 33], [1, 33], [1, 33], [1, 32], [2, 32], [1, 32], [1, 32], [1, 31], [2, 31], [1, 31], [1, 31], [1, 30], [2, 30], [1, 30], [1, 30], [1, 29], [1, 28], [1, 27], [1, 26], [1, 25], [1, 24], [1, 23], [1, 22], [1, 21], [1, 20], [1, 19], [1, 18], [1, 17], [1, 16], [1, 15], [1, 14], [1, 13], [1, 12], [1, 11], [1, 10], [1, 9], [1, 8], [1, 7], [1, 6], [1, 5], [1, 4], [1, 3], [1, 2]]\n",
      "68\n"
     ]
    }
   ],
   "source": [
    "li = []\n",
    "while res.father != None:\n",
    "    li.append(res.location.copy())\n",
    "    res = res.father\n",
    "print(li)\n",
    "print(len(li))"
   ]
  },
  {
   "cell_type": "markdown",
   "metadata": {},
   "source": [
    "### TEST 4"
   ]
  },
  {
   "cell_type": "code",
   "execution_count": 522,
   "metadata": {},
   "outputs": [
    {
     "name": "stdout",
     "output_type": "stream",
     "text": [
      "Wall time: 5.98 ms\n"
     ]
    }
   ],
   "source": [
    "%%time\n",
    "#BFS test 4\n",
    "res = bfs(root)"
   ]
  },
  {
   "cell_type": "code",
   "execution_count": 523,
   "metadata": {},
   "outputs": [
    {
     "name": "stdout",
     "output_type": "stream",
     "text": [
      "[[28, 29], [28, 28], [28, 27], [28, 26], [28, 25], [28, 24], [28, 23], [28, 22], [27, 22], [26, 22], [25, 22], [24, 22], [23, 22], [22, 22], [22, 23], [22, 24], [22, 25], [21, 25], [20, 25], [19, 25], [18, 25], [17, 25], [16, 25], [15, 25], [14, 25], [13, 25], [13, 24], [13, 23], [14, 23], [15, 23], [16, 23], [16, 22], [16, 21], [16, 20], [17, 20], [18, 20], [18, 19], [18, 18], [18, 17], [19, 17], [20, 17], [21, 17], [22, 17], [22, 16], [22, 15], [22, 14], [22, 13], [22, 12], [22, 11], [21, 11], [20, 11], [20, 10], [20, 9], [20, 8], [20, 7], [20, 6], [20, 5], [20, 4], [19, 4], [18, 4], [17, 4], [16, 4], [15, 4], [15, 5], [15, 6], [15, 7], [14, 7], [13, 7], [12, 7], [12, 8], [12, 9], [12, 10], [11, 10], [10, 10], [9, 10], [8, 10], [7, 10], [6, 10], [5, 10], [5, 9], [4, 9], [3, 9], [3, 8], [3, 7], [3, 6], [3, 5], [3, 4], [3, 3], [2, 3], [1, 3], [1, 2], [1, 1]]\n",
      "92\n"
     ]
    }
   ],
   "source": [
    "li = []\n",
    "while res.father != None:\n",
    "    li.append(res.location.copy())\n",
    "    res = res.father\n",
    "print(li)\n",
    "print(len(li))"
   ]
  },
  {
   "cell_type": "markdown",
   "metadata": {},
   "source": [
    "# IDS TESTS"
   ]
  },
  {
   "cell_type": "markdown",
   "metadata": {},
   "source": [
    "### TEST 1"
   ]
  },
  {
   "cell_type": "code",
   "execution_count": 451,
   "metadata": {},
   "outputs": [
    {
     "name": "stdout",
     "output_type": "stream",
     "text": [
      "Wall time: 125 ms\n"
     ]
    }
   ],
   "source": [
    "%%time\n",
    "#IDS test 1\n",
    "res2 = ids(root)"
   ]
  },
  {
   "cell_type": "code",
   "execution_count": 452,
   "metadata": {},
   "outputs": [
    {
     "name": "stdout",
     "output_type": "stream",
     "text": [
      "[[2, 6], [2, 5], [2, 4], [2, 3], [1, 3], [1, 2], [1, 2], [1, 1], [1, 2], [1, 3], [2, 3], [3, 3], [3, 2], [3, 2], [3, 3], [2, 3], [2, 3], [1, 3], [1, 2], [1, 1]]\n",
      "20\n"
     ]
    }
   ],
   "source": [
    "li = []\n",
    "while res2.father != None:\n",
    "    li.append(res2.location.copy())\n",
    "    res2 = res2.father\n",
    "print(li)\n",
    "print(len(li))"
   ]
  },
  {
   "cell_type": "markdown",
   "metadata": {},
   "source": [
    "### TEST 2"
   ]
  },
  {
   "cell_type": "code",
   "execution_count": 507,
   "metadata": {},
   "outputs": [
    {
     "name": "stdout",
     "output_type": "stream",
     "text": [
      "Wall time: 16.6 s\n"
     ]
    }
   ],
   "source": [
    "%%time\n",
    "#IDS test 2\n",
    "res2 = ids(root)"
   ]
  },
  {
   "cell_type": "code",
   "execution_count": 508,
   "metadata": {},
   "outputs": [
    {
     "name": "stdout",
     "output_type": "stream",
     "text": [
      "[[48, 48], [48, 47], [48, 46], [48, 45], [48, 44], [48, 43], [48, 42], [48, 41], [48, 40], [48, 39], [48, 38], [48, 37], [48, 36], [48, 35], [48, 34], [48, 33], [48, 32], [48, 31], [48, 30], [48, 29], [48, 28], [48, 27], [48, 26], [48, 25], [48, 24], [47, 24], [46, 24], [45, 24], [44, 24], [43, 24], [42, 24], [41, 24], [40, 24], [39, 24], [38, 24], [37, 24], [36, 24], [35, 24], [34, 24], [33, 24], [32, 24], [31, 24], [30, 24], [29, 24], [28, 24], [27, 24], [26, 24], [25, 24]]\n",
      "48\n"
     ]
    }
   ],
   "source": [
    "li = []\n",
    "while res2.father != None:\n",
    "    li.append(res2.location.copy())\n",
    "    res2 = res2.father\n",
    "print(li)\n",
    "print(len(li))"
   ]
  },
  {
   "cell_type": "markdown",
   "metadata": {},
   "source": [
    "### TEST 3"
   ]
  },
  {
   "cell_type": "code",
   "execution_count": 472,
   "metadata": {},
   "outputs": [
    {
     "name": "stdout",
     "output_type": "stream",
     "text": [
      "Wall time: 4min 49s\n"
     ]
    }
   ],
   "source": [
    "%%time\n",
    "#IDS test 3\n",
    "res2 = ids(root)"
   ]
  },
  {
   "cell_type": "code",
   "execution_count": 473,
   "metadata": {},
   "outputs": [
    {
     "name": "stdout",
     "output_type": "stream",
     "text": [
      "[[2, 40], [2, 39], [1, 39], [1, 39], [2, 39], [2, 38], [1, 38], [1, 38], [2, 38], [2, 37], [1, 37], [1, 37], [2, 37], [2, 36], [1, 36], [1, 36], [2, 36], [2, 35], [1, 35], [1, 35], [2, 35], [2, 34], [1, 34], [1, 34], [2, 34], [2, 33], [1, 33], [1, 33], [2, 33], [2, 32], [1, 32], [1, 32], [2, 32], [2, 31], [1, 31], [1, 31], [2, 31], [2, 30], [1, 30], [1, 30], [1, 29], [1, 28], [1, 27], [1, 26], [1, 25], [1, 24], [1, 23], [1, 22], [1, 21], [1, 20], [1, 19], [1, 18], [1, 17], [1, 16], [1, 15], [1, 14], [1, 13], [1, 12], [1, 11], [1, 10], [1, 9], [1, 8], [1, 7], [1, 6], [1, 5], [1, 4], [1, 3], [1, 2]]\n",
      "68\n"
     ]
    }
   ],
   "source": [
    "li = []\n",
    "while res2.father != None:\n",
    "    li.append(res2.location.copy())\n",
    "    res2 = res2.father\n",
    "print(li)\n",
    "print(len(li))"
   ]
  },
  {
   "cell_type": "markdown",
   "metadata": {},
   "source": [
    "### TEST 4"
   ]
  },
  {
   "cell_type": "code",
   "execution_count": 524,
   "metadata": {},
   "outputs": [
    {
     "name": "stdout",
     "output_type": "stream",
     "text": [
      "Wall time: 9.19 s\n"
     ]
    }
   ],
   "source": [
    "%%time\n",
    "#IDS test 4\n",
    "res2 = ids(root)"
   ]
  },
  {
   "cell_type": "code",
   "execution_count": 525,
   "metadata": {},
   "outputs": [
    {
     "name": "stdout",
     "output_type": "stream",
     "text": [
      "[[28, 29], [28, 28], [28, 27], [28, 26], [28, 25], [28, 24], [28, 23], [28, 22], [27, 22], [26, 22], [25, 22], [24, 22], [23, 22], [22, 22], [22, 23], [22, 24], [22, 25], [21, 25], [20, 25], [19, 25], [18, 25], [17, 25], [16, 25], [15, 25], [14, 25], [13, 25], [13, 24], [13, 23], [14, 23], [15, 23], [16, 23], [16, 22], [16, 21], [16, 20], [17, 20], [18, 20], [18, 19], [18, 18], [18, 17], [19, 17], [20, 17], [21, 17], [22, 17], [22, 16], [22, 15], [22, 14], [22, 13], [22, 12], [22, 11], [21, 11], [20, 11], [20, 10], [20, 9], [20, 8], [20, 7], [20, 6], [20, 5], [20, 4], [19, 4], [18, 4], [17, 4], [16, 4], [15, 4], [15, 5], [15, 6], [15, 7], [14, 7], [13, 7], [12, 7], [12, 8], [12, 9], [12, 10], [11, 10], [10, 10], [9, 10], [8, 10], [7, 10], [6, 10], [5, 10], [5, 9], [5, 8], [5, 7], [5, 6], [5, 5], [5, 4], [5, 3], [4, 3], [3, 3], [2, 3], [1, 3], [1, 2], [1, 1]]\n",
      "92\n"
     ]
    }
   ],
   "source": [
    "li = []\n",
    "while res2.father != None:\n",
    "    li.append(res2.location.copy())\n",
    "    res2 = res2.father\n",
    "print(li)\n",
    "print(len(li))"
   ]
  },
  {
   "cell_type": "markdown",
   "metadata": {},
   "source": [
    "# A* TESTS"
   ]
  },
  {
   "cell_type": "markdown",
   "metadata": {},
   "source": [
    "### TEST 1"
   ]
  },
  {
   "cell_type": "code",
   "execution_count": 457,
   "metadata": {
    "scrolled": false
   },
   "outputs": [
    {
     "name": "stdout",
     "output_type": "stream",
     "text": [
      "Wall time: 5.97 ms\n"
     ]
    }
   ],
   "source": [
    "%%time\n",
    "#A* test 1\n",
    "res3 = astar(root)"
   ]
  },
  {
   "cell_type": "code",
   "execution_count": 454,
   "metadata": {},
   "outputs": [
    {
     "name": "stdout",
     "output_type": "stream",
     "text": [
      "[[2, 6], [2, 5], [1, 5], [1, 4], [1, 3], [1, 2], [1, 2], [1, 1], [1, 2], [1, 3], [2, 3], [3, 3], [3, 2], [3, 2], [3, 3], [2, 3], [2, 3], [1, 3], [1, 2], [1, 1]]\n",
      "20\n"
     ]
    }
   ],
   "source": [
    "li = []\n",
    "while res3.father != None:\n",
    "    li.append(res3.location.copy())\n",
    "    res3 = res3.father\n",
    "print(li)\n",
    "print(len(li))"
   ]
  },
  {
   "cell_type": "markdown",
   "metadata": {},
   "source": [
    "### TEST 2"
   ]
  },
  {
   "cell_type": "code",
   "execution_count": 509,
   "metadata": {},
   "outputs": [
    {
     "name": "stdout",
     "output_type": "stream",
     "text": [
      "Wall time: 9.97 ms\n"
     ]
    }
   ],
   "source": [
    "%%time\n",
    "#A* test 2\n",
    "res3 = astar(root)"
   ]
  },
  {
   "cell_type": "code",
   "execution_count": 510,
   "metadata": {},
   "outputs": [
    {
     "name": "stdout",
     "output_type": "stream",
     "text": [
      "[[48, 48], [47, 48], [46, 48], [45, 48], [44, 48], [43, 48], [42, 48], [41, 48], [40, 48], [39, 48], [38, 48], [37, 48], [36, 48], [35, 48], [34, 48], [34, 47], [34, 46], [34, 45], [34, 44], [34, 43], [33, 43], [33, 42], [33, 41], [33, 40], [33, 39], [33, 38], [33, 37], [33, 36], [33, 35], [33, 34], [32, 34], [31, 34], [30, 34], [29, 34], [28, 34], [27, 34], [26, 34], [26, 33], [26, 32], [26, 31], [26, 30], [25, 30], [25, 29], [24, 29], [24, 28], [24, 27], [24, 26], [24, 25]]\n",
      "48\n"
     ]
    }
   ],
   "source": [
    "li = []\n",
    "while res3.father != None:\n",
    "    li.append(res3.location.copy())\n",
    "    res3 = res3.father\n",
    "print(li)\n",
    "print(len(li))"
   ]
  },
  {
   "cell_type": "markdown",
   "metadata": {},
   "source": [
    "### TEST 3"
   ]
  },
  {
   "cell_type": "code",
   "execution_count": 491,
   "metadata": {},
   "outputs": [
    {
     "name": "stdout",
     "output_type": "stream",
     "text": [
      "Wall time: 6.25 s\n"
     ]
    }
   ],
   "source": [
    "%%time\n",
    "#A* test 3\n",
    "res3 = astar(root)"
   ]
  },
  {
   "cell_type": "code",
   "execution_count": 484,
   "metadata": {},
   "outputs": [
    {
     "name": "stdout",
     "output_type": "stream",
     "text": [
      "[[2, 40], [2, 39], [1, 39], [1, 39], [2, 39], [2, 38], [1, 38], [1, 38], [2, 38], [2, 37], [1, 37], [1, 37], [2, 37], [2, 36], [1, 36], [1, 36], [2, 36], [2, 35], [1, 35], [1, 35], [2, 35], [2, 34], [1, 34], [1, 34], [2, 34], [2, 33], [1, 33], [1, 33], [2, 33], [2, 32], [1, 32], [1, 32], [2, 32], [2, 31], [1, 31], [1, 31], [2, 31], [2, 30], [1, 30], [1, 30], [1, 29], [1, 28], [1, 27], [1, 26], [1, 25], [1, 24], [1, 23], [1, 22], [1, 21], [1, 20], [1, 19], [1, 18], [1, 17], [1, 16], [1, 15], [1, 14], [1, 13], [1, 12], [1, 11], [1, 10], [1, 9], [1, 8], [1, 7], [1, 6], [1, 5], [1, 4], [1, 3], [1, 2]]\n",
      "68\n"
     ]
    }
   ],
   "source": [
    "li = []\n",
    "while res3.father != None:\n",
    "    li.append(res3.location.copy())\n",
    "    res3 = res3.father\n",
    "print(li)\n",
    "print(len(li))"
   ]
  },
  {
   "cell_type": "markdown",
   "metadata": {},
   "source": [
    "### TEST 4"
   ]
  },
  {
   "cell_type": "code",
   "execution_count": 526,
   "metadata": {},
   "outputs": [
    {
     "name": "stdout",
     "output_type": "stream",
     "text": [
      "Wall time: 12 ms\n"
     ]
    }
   ],
   "source": [
    "%%time\n",
    "#A* test 4\n",
    "res3 = astar(root)"
   ]
  },
  {
   "cell_type": "code",
   "execution_count": 527,
   "metadata": {},
   "outputs": [
    {
     "name": "stdout",
     "output_type": "stream",
     "text": [
      "[[28, 29], [28, 28], [28, 27], [28, 26], [28, 25], [28, 24], [28, 23], [28, 22], [27, 22], [26, 22], [25, 22], [24, 22], [23, 22], [22, 22], [22, 23], [22, 24], [22, 25], [21, 25], [20, 25], [19, 25], [18, 25], [17, 25], [16, 25], [15, 25], [14, 25], [13, 25], [13, 24], [13, 23], [14, 23], [15, 23], [16, 23], [16, 22], [16, 21], [16, 20], [17, 20], [18, 20], [18, 19], [18, 18], [18, 17], [19, 17], [20, 17], [21, 17], [22, 17], [22, 16], [22, 15], [22, 14], [22, 13], [22, 12], [22, 11], [21, 11], [20, 11], [20, 10], [20, 9], [20, 8], [20, 7], [20, 6], [20, 5], [20, 4], [19, 4], [18, 4], [17, 4], [16, 4], [15, 4], [15, 5], [15, 6], [15, 7], [14, 7], [13, 7], [12, 7], [12, 8], [12, 9], [12, 10], [11, 10], [10, 10], [9, 10], [8, 10], [7, 10], [6, 10], [5, 10], [5, 9], [4, 9], [3, 9], [3, 8], [3, 7], [3, 6], [3, 5], [3, 4], [3, 3], [2, 3], [1, 3], [1, 2], [1, 1]]\n",
      "92\n"
     ]
    }
   ],
   "source": [
    "li = []\n",
    "while res3.father != None:\n",
    "    li.append(res3.location.copy())\n",
    "    res3 = res3.father\n",
    "print(li)\n",
    "print(len(li))"
   ]
  },
  {
   "cell_type": "markdown",
   "metadata": {},
   "source": [
    "# A* WEIGHTED TESTS"
   ]
  },
  {
   "cell_type": "code",
   "execution_count": 528,
   "metadata": {},
   "outputs": [
    {
     "name": "stdout",
     "output_type": "stream",
     "text": [
      "[1, 1]\n",
      "{}\n"
     ]
    }
   ],
   "source": [
    "root2 = node(start, 0, None, gem_locs)\n",
    "root2.set_w(1.2)\n",
    "root2.get_moves()\n",
    "root2.print_child()\n",
    "print(gem_locs_dic)"
   ]
  },
  {
   "cell_type": "markdown",
   "metadata": {},
   "source": [
    "### TEST 1"
   ]
  },
  {
   "cell_type": "code",
   "execution_count": 459,
   "metadata": {},
   "outputs": [
    {
     "name": "stdout",
     "output_type": "stream",
     "text": [
      "Wall time: 6.98 ms\n"
     ]
    }
   ],
   "source": [
    "%%time\n",
    "#Weighted A* test1\n",
    "res4 = astar(root2)"
   ]
  },
  {
   "cell_type": "code",
   "execution_count": 460,
   "metadata": {},
   "outputs": [
    {
     "name": "stdout",
     "output_type": "stream",
     "text": [
      "[[2, 6], [2, 5], [1, 5], [1, 4], [1, 3], [1, 2], [1, 2], [1, 1], [1, 2], [1, 3], [2, 3], [3, 3], [3, 2], [3, 2], [3, 3], [2, 3], [2, 3], [1, 3], [1, 2], [1, 1]]\n",
      "20\n"
     ]
    }
   ],
   "source": [
    "li = []\n",
    "while res4.father != None:\n",
    "    li.append(res4.location.copy())\n",
    "    res4 = res4.father\n",
    "print(li)\n",
    "print(len(li))"
   ]
  },
  {
   "cell_type": "markdown",
   "metadata": {},
   "source": [
    "### TEST 2"
   ]
  },
  {
   "cell_type": "code",
   "execution_count": 512,
   "metadata": {},
   "outputs": [
    {
     "name": "stdout",
     "output_type": "stream",
     "text": [
      "Wall time: 11 ms\n"
     ]
    }
   ],
   "source": [
    "%%time\n",
    "#Weighted A* test2\n",
    "res4 = astar(root2)"
   ]
  },
  {
   "cell_type": "code",
   "execution_count": 513,
   "metadata": {},
   "outputs": [
    {
     "name": "stdout",
     "output_type": "stream",
     "text": [
      "[[48, 48], [47, 48], [46, 48], [45, 48], [44, 48], [43, 48], [42, 48], [41, 48], [40, 48], [39, 48], [38, 48], [37, 48], [36, 48], [35, 48], [34, 48], [34, 47], [34, 46], [34, 45], [34, 44], [34, 43], [33, 43], [33, 42], [33, 41], [33, 40], [33, 39], [33, 38], [33, 37], [33, 36], [33, 35], [33, 34], [32, 34], [31, 34], [30, 34], [29, 34], [28, 34], [27, 34], [26, 34], [26, 33], [26, 32], [26, 31], [26, 30], [25, 30], [25, 29], [24, 29], [24, 28], [24, 27], [24, 26], [24, 25]]\n",
      "48\n"
     ]
    }
   ],
   "source": [
    "li = []\n",
    "while res4.father != None:\n",
    "    li.append(res4.location.copy())\n",
    "    res4 = res4.father\n",
    "print(li)\n",
    "print(len(li))"
   ]
  },
  {
   "cell_type": "markdown",
   "metadata": {},
   "source": [
    "### TEST 3"
   ]
  },
  {
   "cell_type": "code",
   "execution_count": 495,
   "metadata": {},
   "outputs": [
    {
     "name": "stdout",
     "output_type": "stream",
     "text": [
      "Wall time: 4.63 s\n"
     ]
    }
   ],
   "source": [
    "%%time\n",
    "#Weighted A* test3\n",
    "res4 = astar(root2)"
   ]
  },
  {
   "cell_type": "code",
   "execution_count": 496,
   "metadata": {},
   "outputs": [
    {
     "name": "stdout",
     "output_type": "stream",
     "text": [
      "[[2, 40], [2, 39], [1, 39], [1, 39], [2, 39], [2, 38], [1, 38], [1, 38], [2, 38], [2, 37], [1, 37], [1, 37], [2, 37], [2, 36], [1, 36], [1, 36], [2, 36], [2, 35], [1, 35], [1, 35], [2, 35], [2, 34], [1, 34], [1, 34], [2, 34], [2, 33], [1, 33], [1, 33], [2, 33], [2, 32], [1, 32], [1, 32], [2, 32], [2, 31], [1, 31], [1, 31], [2, 31], [2, 30], [1, 30], [1, 30], [1, 29], [1, 28], [1, 27], [1, 26], [1, 25], [1, 24], [1, 23], [1, 22], [1, 21], [1, 20], [1, 19], [1, 18], [1, 17], [1, 16], [1, 15], [1, 14], [1, 13], [1, 12], [1, 11], [1, 10], [1, 9], [1, 8], [1, 7], [1, 6], [1, 5], [1, 4], [1, 3], [1, 2]]\n",
      "68\n"
     ]
    }
   ],
   "source": [
    "li = []\n",
    "while res4.father != None:\n",
    "    li.append(res4.location.copy())\n",
    "    res4 = res4.father\n",
    "print(li)\n",
    "print(len(li))"
   ]
  },
  {
   "cell_type": "markdown",
   "metadata": {},
   "source": [
    "### TEST 4"
   ]
  },
  {
   "cell_type": "code",
   "execution_count": 529,
   "metadata": {},
   "outputs": [
    {
     "name": "stdout",
     "output_type": "stream",
     "text": [
      "Wall time: 9.97 ms\n"
     ]
    }
   ],
   "source": [
    "%%time\n",
    "#Weighted A* test4\n",
    "res4 = astar(root2)"
   ]
  },
  {
   "cell_type": "code",
   "execution_count": 530,
   "metadata": {},
   "outputs": [
    {
     "name": "stdout",
     "output_type": "stream",
     "text": [
      "[[28, 29], [28, 28], [28, 27], [28, 26], [28, 25], [28, 24], [28, 23], [28, 22], [27, 22], [26, 22], [25, 22], [24, 22], [23, 22], [22, 22], [22, 23], [22, 24], [22, 25], [21, 25], [20, 25], [19, 25], [18, 25], [17, 25], [16, 25], [15, 25], [14, 25], [13, 25], [13, 24], [13, 23], [14, 23], [15, 23], [16, 23], [16, 22], [16, 21], [16, 20], [17, 20], [18, 20], [18, 19], [18, 18], [18, 17], [19, 17], [20, 17], [21, 17], [22, 17], [22, 16], [22, 15], [22, 14], [22, 13], [22, 12], [22, 11], [21, 11], [20, 11], [20, 10], [20, 9], [20, 8], [20, 7], [20, 6], [20, 5], [20, 4], [19, 4], [18, 4], [17, 4], [16, 4], [15, 4], [15, 5], [15, 6], [15, 7], [14, 7], [13, 7], [12, 7], [12, 8], [12, 9], [12, 10], [11, 10], [10, 10], [9, 10], [8, 10], [7, 10], [6, 10], [5, 10], [5, 9], [4, 9], [3, 9], [3, 8], [3, 7], [3, 6], [3, 5], [3, 4], [3, 3], [2, 3], [1, 3], [1, 2], [1, 1]]\n",
      "92\n"
     ]
    }
   ],
   "source": [
    "li = []\n",
    "while res4.father != None:\n",
    "    li.append(res4.location.copy())\n",
    "    res4 = res4.father\n",
    "print(li)\n",
    "print(len(li))"
   ]
  },
  {
   "cell_type": "code",
   "execution_count": null,
   "metadata": {},
   "outputs": [],
   "source": []
  }
 ],
 "metadata": {
  "kernelspec": {
   "display_name": "Python 3",
   "language": "python",
   "name": "python3"
  },
  "language_info": {
   "codemirror_mode": {
    "name": "ipython",
    "version": 3
   },
   "file_extension": ".py",
   "mimetype": "text/x-python",
   "name": "python",
   "nbconvert_exporter": "python",
   "pygments_lexer": "ipython3",
   "version": "3.7.6"
  }
 },
 "nbformat": 4,
 "nbformat_minor": 4
}
